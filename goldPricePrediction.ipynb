{
 "cells": [
  {
   "cell_type": "code",
   "execution_count": 3,
   "id": "48252744",
   "metadata": {},
   "outputs": [],
   "source": [
    "import numpy as np\n",
    "import pandas as pd\n",
    "import matplotlib.pyplot as plt\n",
    "import seaborn as sns\n",
    "from sklearn.model_selection import train_test_split\n",
    "from sklearn.ensemble import RandomForestRegressor\n",
    "from sklearn import metrics"
   ]
  },
  {
   "cell_type": "code",
   "execution_count": 6,
   "id": "ffcfade5",
   "metadata": {},
   "outputs": [],
   "source": [
    "#Data collection and processing\n",
    "#loading the csv data to a pandas DataFrame\n",
    "gold_data = pd.read_csv(\"C:/Users/Junaid/Desktop/gld_price_data.csv\")"
   ]
  },
  {
   "cell_type": "code",
   "execution_count": 7,
   "id": "2e561187",
   "metadata": {},
   "outputs": [
    {
     "data": {
      "text/html": [
       "<div>\n",
       "<style scoped>\n",
       "    .dataframe tbody tr th:only-of-type {\n",
       "        vertical-align: middle;\n",
       "    }\n",
       "\n",
       "    .dataframe tbody tr th {\n",
       "        vertical-align: top;\n",
       "    }\n",
       "\n",
       "    .dataframe thead th {\n",
       "        text-align: right;\n",
       "    }\n",
       "</style>\n",
       "<table border=\"1\" class=\"dataframe\">\n",
       "  <thead>\n",
       "    <tr style=\"text-align: right;\">\n",
       "      <th></th>\n",
       "      <th>Date</th>\n",
       "      <th>SPX</th>\n",
       "      <th>GLD</th>\n",
       "      <th>USO</th>\n",
       "      <th>SLV</th>\n",
       "      <th>EUR/USD</th>\n",
       "    </tr>\n",
       "  </thead>\n",
       "  <tbody>\n",
       "    <tr>\n",
       "      <th>0</th>\n",
       "      <td>1/2/2008</td>\n",
       "      <td>1447.160034</td>\n",
       "      <td>84.860001</td>\n",
       "      <td>78.470001</td>\n",
       "      <td>15.180</td>\n",
       "      <td>1.471692</td>\n",
       "    </tr>\n",
       "    <tr>\n",
       "      <th>1</th>\n",
       "      <td>1/3/2008</td>\n",
       "      <td>1447.160034</td>\n",
       "      <td>85.570000</td>\n",
       "      <td>78.370003</td>\n",
       "      <td>15.285</td>\n",
       "      <td>1.474491</td>\n",
       "    </tr>\n",
       "    <tr>\n",
       "      <th>2</th>\n",
       "      <td>1/4/2008</td>\n",
       "      <td>1411.630005</td>\n",
       "      <td>85.129997</td>\n",
       "      <td>77.309998</td>\n",
       "      <td>15.167</td>\n",
       "      <td>1.475492</td>\n",
       "    </tr>\n",
       "    <tr>\n",
       "      <th>3</th>\n",
       "      <td>1/7/2008</td>\n",
       "      <td>1416.180054</td>\n",
       "      <td>84.769997</td>\n",
       "      <td>75.500000</td>\n",
       "      <td>15.053</td>\n",
       "      <td>1.468299</td>\n",
       "    </tr>\n",
       "    <tr>\n",
       "      <th>4</th>\n",
       "      <td>1/8/2008</td>\n",
       "      <td>1390.189941</td>\n",
       "      <td>86.779999</td>\n",
       "      <td>76.059998</td>\n",
       "      <td>15.590</td>\n",
       "      <td>1.557099</td>\n",
       "    </tr>\n",
       "  </tbody>\n",
       "</table>\n",
       "</div>"
      ],
      "text/plain": [
       "       Date          SPX        GLD        USO     SLV   EUR/USD\n",
       "0  1/2/2008  1447.160034  84.860001  78.470001  15.180  1.471692\n",
       "1  1/3/2008  1447.160034  85.570000  78.370003  15.285  1.474491\n",
       "2  1/4/2008  1411.630005  85.129997  77.309998  15.167  1.475492\n",
       "3  1/7/2008  1416.180054  84.769997  75.500000  15.053  1.468299\n",
       "4  1/8/2008  1390.189941  86.779999  76.059998  15.590  1.557099"
      ]
     },
     "execution_count": 7,
     "metadata": {},
     "output_type": "execute_result"
    }
   ],
   "source": [
    "#printing first 5 rows in the dataframe\n",
    "gold_data.head()"
   ]
  },
  {
   "cell_type": "code",
   "execution_count": 8,
   "id": "6c09f629",
   "metadata": {},
   "outputs": [
    {
     "data": {
      "text/html": [
       "<div>\n",
       "<style scoped>\n",
       "    .dataframe tbody tr th:only-of-type {\n",
       "        vertical-align: middle;\n",
       "    }\n",
       "\n",
       "    .dataframe tbody tr th {\n",
       "        vertical-align: top;\n",
       "    }\n",
       "\n",
       "    .dataframe thead th {\n",
       "        text-align: right;\n",
       "    }\n",
       "</style>\n",
       "<table border=\"1\" class=\"dataframe\">\n",
       "  <thead>\n",
       "    <tr style=\"text-align: right;\">\n",
       "      <th></th>\n",
       "      <th>Date</th>\n",
       "      <th>SPX</th>\n",
       "      <th>GLD</th>\n",
       "      <th>USO</th>\n",
       "      <th>SLV</th>\n",
       "      <th>EUR/USD</th>\n",
       "    </tr>\n",
       "  </thead>\n",
       "  <tbody>\n",
       "    <tr>\n",
       "      <th>2285</th>\n",
       "      <td>5/8/2018</td>\n",
       "      <td>2671.919922</td>\n",
       "      <td>124.589996</td>\n",
       "      <td>14.0600</td>\n",
       "      <td>15.5100</td>\n",
       "      <td>1.186789</td>\n",
       "    </tr>\n",
       "    <tr>\n",
       "      <th>2286</th>\n",
       "      <td>5/9/2018</td>\n",
       "      <td>2697.790039</td>\n",
       "      <td>124.330002</td>\n",
       "      <td>14.3700</td>\n",
       "      <td>15.5300</td>\n",
       "      <td>1.184722</td>\n",
       "    </tr>\n",
       "    <tr>\n",
       "      <th>2287</th>\n",
       "      <td>5/10/2018</td>\n",
       "      <td>2723.070068</td>\n",
       "      <td>125.180000</td>\n",
       "      <td>14.4100</td>\n",
       "      <td>15.7400</td>\n",
       "      <td>1.191753</td>\n",
       "    </tr>\n",
       "    <tr>\n",
       "      <th>2288</th>\n",
       "      <td>5/14/2018</td>\n",
       "      <td>2730.129883</td>\n",
       "      <td>124.489998</td>\n",
       "      <td>14.3800</td>\n",
       "      <td>15.5600</td>\n",
       "      <td>1.193118</td>\n",
       "    </tr>\n",
       "    <tr>\n",
       "      <th>2289</th>\n",
       "      <td>5/16/2018</td>\n",
       "      <td>2725.780029</td>\n",
       "      <td>122.543800</td>\n",
       "      <td>14.4058</td>\n",
       "      <td>15.4542</td>\n",
       "      <td>1.182033</td>\n",
       "    </tr>\n",
       "  </tbody>\n",
       "</table>\n",
       "</div>"
      ],
      "text/plain": [
       "           Date          SPX         GLD      USO      SLV   EUR/USD\n",
       "2285   5/8/2018  2671.919922  124.589996  14.0600  15.5100  1.186789\n",
       "2286   5/9/2018  2697.790039  124.330002  14.3700  15.5300  1.184722\n",
       "2287  5/10/2018  2723.070068  125.180000  14.4100  15.7400  1.191753\n",
       "2288  5/14/2018  2730.129883  124.489998  14.3800  15.5600  1.193118\n",
       "2289  5/16/2018  2725.780029  122.543800  14.4058  15.4542  1.182033"
      ]
     },
     "execution_count": 8,
     "metadata": {},
     "output_type": "execute_result"
    }
   ],
   "source": [
    "#print last 5 rows of the dataframe\n",
    "gold_data.tail()"
   ]
  },
  {
   "cell_type": "code",
   "execution_count": 9,
   "id": "f802fafb",
   "metadata": {},
   "outputs": [
    {
     "data": {
      "text/plain": [
       "(2290, 6)"
      ]
     },
     "execution_count": 9,
     "metadata": {},
     "output_type": "execute_result"
    }
   ],
   "source": [
    "# Total number of rows and columns\n",
    "gold_data.shape"
   ]
  },
  {
   "cell_type": "code",
   "execution_count": 10,
   "id": "9afe268a",
   "metadata": {},
   "outputs": [
    {
     "name": "stdout",
     "output_type": "stream",
     "text": [
      "<class 'pandas.core.frame.DataFrame'>\n",
      "RangeIndex: 2290 entries, 0 to 2289\n",
      "Data columns (total 6 columns):\n",
      " #   Column   Non-Null Count  Dtype  \n",
      "---  ------   --------------  -----  \n",
      " 0   Date     2290 non-null   object \n",
      " 1   SPX      2290 non-null   float64\n",
      " 2   GLD      2290 non-null   float64\n",
      " 3   USO      2290 non-null   float64\n",
      " 4   SLV      2290 non-null   float64\n",
      " 5   EUR/USD  2290 non-null   float64\n",
      "dtypes: float64(5), object(1)\n",
      "memory usage: 107.5+ KB\n"
     ]
    }
   ],
   "source": [
    "#getting some basic information about the dataset\n",
    "gold_data.info()"
   ]
  },
  {
   "cell_type": "code",
   "execution_count": 11,
   "id": "293dbcdf",
   "metadata": {},
   "outputs": [
    {
     "data": {
      "text/html": [
       "<div>\n",
       "<style scoped>\n",
       "    .dataframe tbody tr th:only-of-type {\n",
       "        vertical-align: middle;\n",
       "    }\n",
       "\n",
       "    .dataframe tbody tr th {\n",
       "        vertical-align: top;\n",
       "    }\n",
       "\n",
       "    .dataframe thead th {\n",
       "        text-align: right;\n",
       "    }\n",
       "</style>\n",
       "<table border=\"1\" class=\"dataframe\">\n",
       "  <thead>\n",
       "    <tr style=\"text-align: right;\">\n",
       "      <th></th>\n",
       "      <th>SPX</th>\n",
       "      <th>GLD</th>\n",
       "      <th>USO</th>\n",
       "      <th>SLV</th>\n",
       "      <th>EUR/USD</th>\n",
       "    </tr>\n",
       "  </thead>\n",
       "  <tbody>\n",
       "    <tr>\n",
       "      <th>count</th>\n",
       "      <td>2290.000000</td>\n",
       "      <td>2290.000000</td>\n",
       "      <td>2290.000000</td>\n",
       "      <td>2290.000000</td>\n",
       "      <td>2290.000000</td>\n",
       "    </tr>\n",
       "    <tr>\n",
       "      <th>mean</th>\n",
       "      <td>1654.315776</td>\n",
       "      <td>122.732875</td>\n",
       "      <td>31.842221</td>\n",
       "      <td>20.084997</td>\n",
       "      <td>1.283653</td>\n",
       "    </tr>\n",
       "    <tr>\n",
       "      <th>std</th>\n",
       "      <td>519.111540</td>\n",
       "      <td>23.283346</td>\n",
       "      <td>19.523517</td>\n",
       "      <td>7.092566</td>\n",
       "      <td>0.131547</td>\n",
       "    </tr>\n",
       "    <tr>\n",
       "      <th>min</th>\n",
       "      <td>676.530029</td>\n",
       "      <td>70.000000</td>\n",
       "      <td>7.960000</td>\n",
       "      <td>8.850000</td>\n",
       "      <td>1.039047</td>\n",
       "    </tr>\n",
       "    <tr>\n",
       "      <th>25%</th>\n",
       "      <td>1239.874969</td>\n",
       "      <td>109.725000</td>\n",
       "      <td>14.380000</td>\n",
       "      <td>15.570000</td>\n",
       "      <td>1.171313</td>\n",
       "    </tr>\n",
       "    <tr>\n",
       "      <th>50%</th>\n",
       "      <td>1551.434998</td>\n",
       "      <td>120.580002</td>\n",
       "      <td>33.869999</td>\n",
       "      <td>17.268500</td>\n",
       "      <td>1.303297</td>\n",
       "    </tr>\n",
       "    <tr>\n",
       "      <th>75%</th>\n",
       "      <td>2073.010070</td>\n",
       "      <td>132.840004</td>\n",
       "      <td>37.827501</td>\n",
       "      <td>22.882500</td>\n",
       "      <td>1.369971</td>\n",
       "    </tr>\n",
       "    <tr>\n",
       "      <th>max</th>\n",
       "      <td>2872.870117</td>\n",
       "      <td>184.589996</td>\n",
       "      <td>117.480003</td>\n",
       "      <td>47.259998</td>\n",
       "      <td>1.598798</td>\n",
       "    </tr>\n",
       "  </tbody>\n",
       "</table>\n",
       "</div>"
      ],
      "text/plain": [
       "               SPX          GLD          USO          SLV      EUR/USD\n",
       "count  2290.000000  2290.000000  2290.000000  2290.000000  2290.000000\n",
       "mean   1654.315776   122.732875    31.842221    20.084997     1.283653\n",
       "std     519.111540    23.283346    19.523517     7.092566     0.131547\n",
       "min     676.530029    70.000000     7.960000     8.850000     1.039047\n",
       "25%    1239.874969   109.725000    14.380000    15.570000     1.171313\n",
       "50%    1551.434998   120.580002    33.869999    17.268500     1.303297\n",
       "75%    2073.010070   132.840004    37.827501    22.882500     1.369971\n",
       "max    2872.870117   184.589996   117.480003    47.259998     1.598798"
      ]
     },
     "execution_count": 11,
     "metadata": {},
     "output_type": "execute_result"
    }
   ],
   "source": [
    "# getting the statistical measures of data\n",
    "gold_data.describe()"
   ]
  },
  {
   "cell_type": "code",
   "execution_count": 12,
   "id": "f1d2b7fb",
   "metadata": {},
   "outputs": [],
   "source": [
    "# Now we will find correlation between various columns of the dataset\n",
    "# Correlation are of two types - postive and negative\n",
    "correlation = gold_data.corr()"
   ]
  },
  {
   "cell_type": "code",
   "execution_count": 13,
   "id": "7f7534ff",
   "metadata": {},
   "outputs": [
    {
     "data": {
      "text/plain": [
       "<AxesSubplot:>"
      ]
     },
     "execution_count": 13,
     "metadata": {},
     "output_type": "execute_result"
    },
    {
     "data": {
      "image/png": "[encoded data removed]",
      "text/plain": [
       "<Figure size 576x576 with 2 Axes>"
      ]
     },
     "metadata": {
      "needs_background": "light"
     },
     "output_type": "display_data"
    }
   ],
   "source": [
    "# Constructing a heatmap to understand the correlation\n",
    "plt.figure(figsize = (8,8))\n",
    "sns.heatmap(correlation, cbar =True, square = True, fmt = '.1f', annot= True, annot_kws= {'size':8}, cmap = 'Blues')"
   ]
  },
  {
   "cell_type": "code",
   "execution_count": 14,
   "id": "504eeeb6",
   "metadata": {},
   "outputs": [
    {
     "name": "stdout",
     "output_type": "stream",
     "text": [
      "SPX        0.049345\n",
      "GLD        1.000000\n",
      "USO       -0.186360\n",
      "SLV        0.866632\n",
      "EUR/USD   -0.024375\n",
      "Name: GLD, dtype: float64\n"
     ]
    }
   ],
   "source": [
    "# Correlation values of Gold\n",
    "print(correlation['GLD'])"
   ]
  },
  {
   "cell_type": "code",
   "execution_count": 15,
   "id": "937c91fe",
   "metadata": {},
   "outputs": [
    {
     "name": "stderr",
     "output_type": "stream",
     "text": [
      "C:\\Users\\Junaid\\anaconda3\\lib\\site-packages\\seaborn\\distributions.py:2619: FutureWarning: `distplot` is a deprecated function and will be removed in a future version. Please adapt your code to use either `displot` (a figure-level function with similar flexibility) or `histplot` (an axes-level function for histograms).\n",
      "  warnings.warn(msg, FutureWarning)\n"
     ]
    },
    {
     "data": {
      "text/plain": [
       "<AxesSubplot:xlabel='GLD', ylabel='Density'>"
      ]
     },
     "execution_count": 15,
     "metadata": {},
     "output_type": "execute_result"
    },
    {
     "data": {
      "image/png": "[encoded data removed]",
      "text/plain": [
       "<Figure size 432x288 with 1 Axes>"
      ]
     },
     "metadata": {
      "needs_background": "light"
     },
     "output_type": "display_data"
    }
   ],
   "source": [
    "#Checking the distribution of the gold price\n",
    "sns.distplot(gold_data['GLD'], color ='green')"
   ]
  },
  {
   "cell_type": "code",
   "execution_count": 20,
   "id": "b604fe02",
   "metadata": {},
   "outputs": [],
   "source": [
    "#Splitting the features and target\n",
    "X = gold_data.drop(['Date','GLD'], axis = 1)\n",
    "Y = gold_data['GLD']"
   ]
  },
  {
   "cell_type": "code",
   "execution_count": 18,
   "id": "da598989",
   "metadata": {},
   "outputs": [
    {
     "name": "stdout",
     "output_type": "stream",
     "text": [
      "              SPX        USO      SLV   EUR/USD\n",
      "0     1447.160034  78.470001  15.1800  1.471692\n",
      "1     1447.160034  78.370003  15.2850  1.474491\n",
      "2     1411.630005  77.309998  15.1670  1.475492\n",
      "3     1416.180054  75.500000  15.0530  1.468299\n",
      "4     1390.189941  76.059998  15.5900  1.557099\n",
      "...           ...        ...      ...       ...\n",
      "2285  2671.919922  14.060000  15.5100  1.186789\n",
      "2286  2697.790039  14.370000  15.5300  1.184722\n",
      "2287  2723.070068  14.410000  15.7400  1.191753\n",
      "2288  2730.129883  14.380000  15.5600  1.193118\n",
      "2289  2725.780029  14.405800  15.4542  1.182033\n",
      "\n",
      "[2290 rows x 4 columns]\n"
     ]
    }
   ],
   "source": [
    "print(X)"
   ]
  },
  {
   "cell_type": "code",
   "execution_count": 21,
   "id": "bf8ccae6",
   "metadata": {},
   "outputs": [
    {
     "name": "stdout",
     "output_type": "stream",
     "text": [
      "0        84.860001\n",
      "1        85.570000\n",
      "2        85.129997\n",
      "3        84.769997\n",
      "4        86.779999\n",
      "           ...    \n",
      "2285    124.589996\n",
      "2286    124.330002\n",
      "2287    125.180000\n",
      "2288    124.489998\n",
      "2289    122.543800\n",
      "Name: GLD, Length: 2290, dtype: float64\n"
     ]
    }
   ],
   "source": [
    "print(Y)"
   ]
  },
  {
   "cell_type": "code",
   "execution_count": 22,
   "id": "ed7957fd",
   "metadata": {},
   "outputs": [],
   "source": [
    "# Splitting into training and testing data\n",
    "X_train, X_test, Y_train, Y_test = train_test_split(X, Y, test_size = 0.2, random_state = 2)"
   ]
  },
  {
   "cell_type": "code",
   "execution_count": 23,
   "id": "c1e2d135",
   "metadata": {},
   "outputs": [],
   "source": [
    "#Model training - Random Forest Regressor\n",
    "regressor = RandomForestRegressor(n_estimators =100)"
   ]
  },
  {
   "cell_type": "code",
   "execution_count": 24,
   "id": "b6539d96",
   "metadata": {},
   "outputs": [
    {
     "data": {
      "text/plain": [
       "RandomForestRegressor()"
      ]
     },
     "execution_count": 24,
     "metadata": {},
     "output_type": "execute_result"
    }
   ],
   "source": [
    "#Training the model \n",
    "regressor.fit(X_train, Y_train)"
   ]
  },
  {
   "cell_type": "code",
   "execution_count": 25,
   "id": "abbb4baf",
   "metadata": {},
   "outputs": [],
   "source": [
    "#Model evaluation\n",
    "#Prediction on test data\n",
    "test_data_prediction = regressor.predict(X_test) "
   ]
  },
  {
   "cell_type": "code",
   "execution_count": 26,
   "id": "6f268871",
   "metadata": {},
   "outputs": [
    {
     "name": "stdout",
     "output_type": "stream",
     "text": [
      "[168.19109927  82.07239986 116.2041003  127.63980076 120.92090086\n",
      " 154.62139691 150.33429881 126.13350029 117.52599857 126.11290045\n",
      " 116.72760088 172.0973007  141.90209903 167.94229909 115.29220015\n",
      " 117.63410063 139.55960345 170.01580055 158.62730322 160.89169975\n",
      " 155.00540015 125.11280038 176.64799947 156.66230242 125.21520038\n",
      "  93.62339966  77.22680019 120.81110001 119.10199957 167.47489993\n",
      "  88.24560053 125.31830017  91.26390073 117.70270037 121.10969922\n",
      " 136.18060062 115.47660109 115.38100078 148.60929945 107.35110081\n",
      " 103.78500233  87.05049775 126.54360047 117.77399987 153.06139894\n",
      " 119.57199999 108.27270016 107.99389831  93.23850054 127.11599747\n",
      "  74.77610038 113.66449973 121.42640016 111.17519878 118.80029857\n",
      " 120.75989944 159.97550087 167.15920137 147.07139675  85.70229869\n",
      "  94.33200004  86.73969903  90.65989996 119.11540057 126.5414006\n",
      " 127.68880031 170.46619991 122.20209939 117.41749899  98.61380035\n",
      " 168.50190012 143.05799821 132.00510216 121.20960206 121.02559974\n",
      " 119.56460048 114.48800172 118.28800054 107.30260099 127.98390184\n",
      " 114.04489942 107.23770017 116.88910072 119.68489853  88.99980123\n",
      "  88.27129895 147.04460234 127.31360026 113.46920024 109.97599845\n",
      " 108.35789924  77.44449907 169.58930157 113.99259913 121.65819883\n",
      " 128.04300163 154.9102979   91.6451992  135.68210141 159.42100308\n",
      " 125.4288004  125.40960062 130.55970213 114.94720134 119.82310006\n",
      "  92.18859966 110.18719903 168.54779878 155.80639972 114.13839956\n",
      " 106.6530013   78.89329984 113.1558005  125.7879008  107.60459904\n",
      " 119.24290061 155.29540257 160.01169906 120.07129989 134.40460309\n",
      " 101.11690013 117.41419797 119.15180039 112.91750078 102.8167991\n",
      " 160.35449813  98.75570043 147.43389928 125.84450137 170.06919869\n",
      " 125.71669902 127.3347974  127.44180156 113.68969928 113.19950059\n",
      " 123.24609905 102.1483992   89.38639977 124.66959953 101.64419917\n",
      " 107.05339889 113.55570067 117.34430056  99.23169963 121.50060067\n",
      " 163.68279941  87.30369891 106.82579999 116.93680087 127.73350148\n",
      " 123.93420057  80.5939992  120.21970033 157.26379868  88.10369963\n",
      " 110.68619875 118.82099917 172.63349894 102.95999895 105.43320047\n",
      " 122.57700021 157.94859785  87.42609841  92.94890022 113.14560048\n",
      " 177.05929951 114.51699984 119.21950006  94.81590114 125.65320009\n",
      " 165.96810029 114.95340053 116.55410132  88.3550989  148.86919992\n",
      " 120.27919935  89.45249954 112.11950022 117.09750011 118.84550131\n",
      "  88.09729942  94.10010014 117.19950011 118.52970188 120.27410082\n",
      " 126.85979842 121.88899995 152.14420028 165.68210051 118.52359954\n",
      " 120.25420124 150.38890052 118.33889904 172.51119912 105.12379924\n",
      " 105.05150163 149.13010003 114.09130026 124.92600103 147.5959995\n",
      " 119.72360133 115.28260011 112.64040028 113.43490199 140.84580058\n",
      " 117.90629757 102.89970029 115.75550115 103.50930172  98.81960048\n",
      " 117.49400088  90.81180002  91.4750005  153.76559897 102.76449968\n",
      " 154.68540075 114.43500154 138.89850112  90.12399819 115.49459979\n",
      " 114.46809999 122.65170041 121.85640036 165.19020213  92.96649944\n",
      " 135.43540115 121.38389945 120.93460071 104.7874     142.20770285\n",
      " 122.02189893 116.71520044 113.50970078 127.15839765 122.81779926\n",
      " 125.85069996 121.28750015  86.79749908 132.68550154 144.47140249\n",
      "  92.79909959 157.83090007 159.32360208 126.47119912 165.00589966\n",
      " 108.77749965 110.03470115 103.71239823  94.43510077 128.14060315\n",
      " 106.93170047 160.94070074 121.69780045 132.24879999 130.64540192\n",
      " 160.34140059  90.10209869 176.09690254 127.89930024 126.70229927\n",
      "  86.25029892 124.56679919 150.40239694  89.66739993 106.99989995\n",
      " 108.86060001  84.02789887 136.34060008 155.03160231 138.46590363\n",
      "  73.62770044 152.09800174 125.98260005 126.72920008 127.42829943\n",
      " 108.71649969 155.93609943 114.67200118 117.14250097 125.44089935\n",
      " 154.11350195 121.4262998  156.42919854  92.89240033 125.5207015\n",
      " 125.4875003   87.76050049  92.19749914 126.32089913 128.39160331\n",
      " 113.17310049 117.78529786 120.95360037 127.25699769 119.603201\n",
      " 136.90320113  93.84609924 119.71330033 113.22110115  94.37339958\n",
      " 108.86929936  86.77649917 108.84789947  89.70109943  92.43730036\n",
      " 131.52600341 162.52030069  89.3228001  119.73820068 133.19840186\n",
      " 123.98450062 128.29390181 101.93089864  88.98689853 132.17890098\n",
      " 119.6248003  108.46490031 167.33320059 115.16810033  86.58739872\n",
      " 118.82460084  91.06779973 161.82370049 116.55250061 121.76410024\n",
      " 160.3211975  120.1573994  112.76649959 108.5086986  126.6993997\n",
      "  75.98590007 103.01649974 128.12670325 122.0351999   92.70859989\n",
      " 132.29540068 118.09960113 116.0310997  154.49780282 160.00400073\n",
      " 109.96869985 155.86669721 119.24360107 160.92780154 118.40770039\n",
      " 158.05909995 115.2057997  116.36660038 148.1745984  114.70510043\n",
      " 125.83789906 166.29849929 117.61040005 125.22039923 153.29210345\n",
      " 153.54630199 132.20439978 114.83490025 121.26810182 124.96250043\n",
      "  89.86480031 123.17129948 154.72750165 111.73880033 106.74819998\n",
      " 161.522501   118.51640015 165.67589948 133.87430176 115.02799979\n",
      " 153.04549909 168.76520034 115.09140025 114.14440099 158.55689873\n",
      "  85.21629888 127.07010134 128.09170082 128.90610033 124.62340052\n",
      " 124.11150116  90.71660076 153.12290125  97.01319982 137.63879964\n",
      "  88.95719873 107.23190022 114.87020045 112.94370128 124.38419947\n",
      "  91.48279889 125.30880124 162.42379895 119.73249884 165.07490124\n",
      " 126.8243984  112.24139994 127.60689944  95.26569919  90.98749966\n",
      " 103.35449894 120.84810013  83.21579951 126.3747002  159.67690468\n",
      " 117.346101   118.32040005 120.07889997 122.7435997  120.0707015\n",
      " 121.53300027 117.96860062 106.99029991 148.50070016 125.99349867\n",
      " 115.73150055  74.33330025 127.82260091 153.99380092 122.27030016\n",
      " 125.56320011  88.77030018 102.66119838 125.40040059 120.23540049\n",
      "  73.38930079 151.27760039 121.27630049 104.83040023  86.39979781\n",
      " 115.38899949 172.24689771 119.85180031 160.71289725 113.23209958\n",
      " 121.54510002 118.50000139  95.94389984 118.78869994 125.85730034\n",
      " 118.5134995   96.06230063 153.82310191 122.50490032 147.73299989\n",
      " 159.6744016  113.62810046 122.42839943 148.62729774 127.1258001\n",
      " 165.79310066 135.80299991 120.04369908 167.73219884 108.33189936\n",
      " 121.84689842 139.54450133 106.47299884]\n"
     ]
    }
   ],
   "source": [
    "print(test_data_prediction)"
   ]
  },
  {
   "cell_type": "code",
   "execution_count": 27,
   "id": "f1f64a3f",
   "metadata": {},
   "outputs": [
    {
     "name": "stdout",
     "output_type": "stream",
     "text": [
      "R sqaured error:  0.9890707437496585\n"
     ]
    }
   ],
   "source": [
    "#testing the predicted values against actual values\n",
    "# R squared error\n",
    "error_score = metrics.r2_score(Y_test, test_data_prediction)\n",
    "print(\"R sqaured error: \", error_score)"
   ]
  },
  {
   "cell_type": "code",
   "execution_count": 28,
   "id": "2844e1f6",
   "metadata": {},
   "outputs": [],
   "source": [
    "#Another way to check the accuracy of the prediction (in case the data range is less)\n",
    "# It can be done by plotting some graphs like given below\n",
    "# Converting the gold values into a list\n",
    "Y_test = list(Y_test)"
   ]
  },
  {
   "cell_type": "code",
   "execution_count": 29,
   "id": "3e442fb5",
   "metadata": {},
   "outputs": [
    {
     "data": {
      "image/png": "[encoded data removed]",
      "text/plain": [
       "<Figure size 432x288 with 1 Axes>"
      ]
     },
     "metadata": {
      "needs_background": "light"
     },
     "output_type": "display_data"
    }
   ],
   "source": [
    "plt.plot(Y_test, color = 'Blue', label = 'Actual Value')\n",
    "plt.plot(test_data_prediction, color = 'Green', label ='Predicted Value')\n",
    "plt.title('Actual Price vs Predicted Price')\n",
    "plt.xlabel('Number of values')\n",
    "plt.ylabel('Gold price')\n",
    "plt.legend()\n",
    "plt.show()"
   ]
  },
  {
   "cell_type": "code",
   "execution_count": null,
   "id": "307647c4",
   "metadata": {},
   "outputs": [],
   "source": []
  }
 ],
 "metadata": {
  "kernelspec": {
   "display_name": "Python 3 (ipykernel)",
   "language": "python",
   "name": "python3"
  },
  "language_info": {
   "codemirror_mode": {
    "name": "ipython",
    "version": 3
   },
   "file_extension": ".py",
   "mimetype": "text/x-python",
   "name": "python",
   "nbconvert_exporter": "python",
   "pygments_lexer": "ipython3",
   "version": "3.9.7"
  }
 },
 "nbformat": 4,
 "nbformat_minor": 5
}
